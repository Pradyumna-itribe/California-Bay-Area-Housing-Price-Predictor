{
 "cells": [
  {
   "cell_type": "code",
   "execution_count": 1,
   "id": "870aef93",
   "metadata": {},
   "outputs": [],
   "source": [
    "import numpy as np\n",
    "import pandas as pd\n",
    "from sklearn.metrics import roc_auc_score\n",
    "from sklearn.svm import LinearSVC\n",
    "from sklearn.model_selection import GridSearchCV\n",
    "from sklearn.decomposition import KernelPCA\n",
    "from sklearn.pipeline import Pipeline"
   ]
  },
  {
   "cell_type": "code",
   "execution_count": 25,
   "id": "87761243",
   "metadata": {},
   "outputs": [],
   "source": [
    "import os\n",
    "path = os.path.join(os.getcwd(),\"datasets\\csv_files\")\n",
    "train_data = pd.read_csv(os.path.join(path,\"train_data.csv\"))\n",
    "test_data = pd.read_csv(os.path.join(path,\"test_data.csv\"))\n",
    "train_target=train_data[\"target\"]\n",
    "test_target = test_data[\"target\"]\n",
    "train_data.drop(\"target\",inplace=True,axis=1)\n",
    "test_data.drop(\"target\",inplace = True, axis=1)"
   ]
  },
  {
   "cell_type": "code",
   "execution_count": 118,
   "id": "b02e23df",
   "metadata": {},
   "outputs": [],
   "source": [
    "kpca=KernelPCA(n_components = 285,kernel = \"linear\",gamma=0.8)\n",
    "X=kpca.fit_transform(train_data)"
   ]
  },
  {
   "cell_type": "code",
   "execution_count": 119,
   "id": "29dc3dbd",
   "metadata": {},
   "outputs": [
    {
     "name": "stderr",
     "output_type": "stream",
     "text": [
      "C:\\Users\\peddu\\AppData\\Local\\Packages\\PythonSoftwareFoundation.Python.3.8_qbz5n2kfra8p0\\LocalCache\\local-packages\\Python38\\site-packages\\sklearn\\svm\\_base.py:985: ConvergenceWarning: Liblinear failed to converge, increase the number of iterations.\n",
      "  warnings.warn(\"Liblinear failed to converge, increase \"\n"
     ]
    },
    {
     "data": {
      "text/plain": [
       "LinearSVC(C=1.4)"
      ]
     },
     "execution_count": 119,
     "metadata": {},
     "output_type": "execute_result"
    }
   ],
   "source": [
    "svmc = LinearSVC(C=1.4)\n",
    "svmc.fit(X,train_target)"
   ]
  },
  {
   "cell_type": "code",
   "execution_count": 120,
   "id": "b739f502",
   "metadata": {},
   "outputs": [
    {
     "data": {
      "text/plain": [
       "0.6065330105698713"
      ]
     },
     "execution_count": 120,
     "metadata": {},
     "output_type": "execute_result"
    }
   ],
   "source": [
    "roc_auc_score(test_target,svmc.predict(kpca.transform(test_data)))"
   ]
  },
  {
   "cell_type": "code",
   "execution_count": null,
   "id": "e63708f4",
   "metadata": {},
   "outputs": [],
   "source": []
  },
  {
   "cell_type": "code",
   "execution_count": null,
   "id": "c6f596a8",
   "metadata": {},
   "outputs": [],
   "source": []
  }
 ],
 "metadata": {
  "kernelspec": {
   "display_name": "Python 3.8.10 64-bit (windows store)",
   "language": "python",
   "name": "python3"
  },
  "language_info": {
   "codemirror_mode": {
    "name": "ipython",
    "version": 3
   },
   "file_extension": ".py",
   "mimetype": "text/x-python",
   "name": "python",
   "nbconvert_exporter": "python",
   "pygments_lexer": "ipython3",
   "version": "3.8.10"
  },
  "vscode": {
   "interpreter": {
    "hash": "8c84a322d8aff152c6b397517a48c8de3ab78e90b4b53748d34cbc3b43d6d2eb"
   }
  }
 },
 "nbformat": 4,
 "nbformat_minor": 5
}
